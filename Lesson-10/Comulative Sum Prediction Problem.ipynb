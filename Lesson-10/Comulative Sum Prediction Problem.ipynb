{
 "cells": [
  {
   "cell_type": "code",
   "execution_count": 1,
   "metadata": {},
   "outputs": [],
   "source": [
    "import random\n",
    "import numpy as np\n",
    "\n",
    "from keras.models import Sequential\n",
    "from keras.layers import LSTM, Bidirectional, TimeDistributed, Dense\n"
   ]
  },
  {
   "cell_type": "markdown",
   "metadata": {},
   "source": [
    "** Sequence Generation **"
   ]
  },
  {
   "cell_type": "code",
   "execution_count": 2,
   "metadata": {},
   "outputs": [],
   "source": [
    "def get_sequence(n_timesteps):\n",
    "    # create a sequence of random numbers in [0, 1]\n",
    "    X = np.array([random.random() for _ in range(n_timesteps)])\n",
    "    limit = n_timesteps/4.0\n",
    "    y = np.array([0 if x < limit else 1 for x in np.cumsum(X)])\n",
    "    return X, y"
   ]
  },
  {
   "cell_type": "code",
   "execution_count": 3,
   "metadata": {},
   "outputs": [
    {
     "name": "stdout",
     "output_type": "stream",
     "text": [
      "[0.7445431  0.93479191 0.85433796 0.18578936 0.41708048 0.63879489\n",
      " 0.03860261 0.59829415 0.24722    0.46115006]\n",
      "[0 0 1 1 1 1 1 1 1 1]\n"
     ]
    }
   ],
   "source": [
    "X, y = get_sequence(10)\n",
    "print(X)\n",
    "print(y)"
   ]
  },
  {
   "cell_type": "markdown",
   "metadata": {},
   "source": [
    "** Generate Multiple Sequences **"
   ]
  },
  {
   "cell_type": "code",
   "execution_count": 4,
   "metadata": {},
   "outputs": [],
   "source": [
    "def get_sequences(n_sequences, n_timesteps):\n",
    "    seqX, seqY = [], []\n",
    "    for i in range(n_sequences):\n",
    "        X, y = get_sequence(n_timesteps)\n",
    "        seqX.append(X)\n",
    "        seqY.append(y)\n",
    "    return np.array(seqX).reshape(n_sequences, n_timesteps, 1) , np.array(seqY).reshape(n_sequences, n_timesteps, 1)"
   ]
  },
  {
   "cell_type": "markdown",
   "metadata": {},
   "source": [
    "** Define and Compile Model **"
   ]
  },
  {
   "cell_type": "code",
   "execution_count": 5,
   "metadata": {},
   "outputs": [
    {
     "name": "stdout",
     "output_type": "stream",
     "text": [
      "_________________________________________________________________\n",
      "Layer (type)                 Output Shape              Param #   \n",
      "=================================================================\n",
      "bidirectional_1 (Bidirection (None, 10, 100)           20800     \n",
      "_________________________________________________________________\n",
      "time_distributed_1 (TimeDist (None, 10, 1)             101       \n",
      "=================================================================\n",
      "Total params: 20,901\n",
      "Trainable params: 20,901\n",
      "Non-trainable params: 0\n",
      "_________________________________________________________________\n",
      "None\n"
     ]
    }
   ],
   "source": [
    "# set parameters\n",
    "n_timesteps = 10\n",
    "model = Sequential()\n",
    "model.add(Bidirectional(LSTM(50, return_sequences=True), input_shape=(n_timesteps, 1)))\n",
    "model.add(TimeDistributed(Dense(1, activation='sigmoid')))\n",
    "model.compile(loss='binary_crossentropy', optimizer='adam', metrics=['acc'])\n",
    "print(model.summary())"
   ]
  },
  {
   "cell_type": "markdown",
   "metadata": {},
   "source": [
    "** Fit the Model **"
   ]
  },
  {
   "cell_type": "code",
   "execution_count": 6,
   "metadata": {},
   "outputs": [
    {
     "name": "stdout",
     "output_type": "stream",
     "text": [
      "Epoch 1/1\n",
      "50000/50000 [==============================] - 32s 646us/step - loss: 0.0499 - acc: 0.9820\n"
     ]
    },
    {
     "data": {
      "text/plain": [
       "<keras.callbacks.History at 0x7fa8d7947160>"
      ]
     },
     "execution_count": 6,
     "metadata": {},
     "output_type": "execute_result"
    }
   ],
   "source": [
    "X, y = get_sequences(50000, n_timesteps)\n",
    "model.fit(X, y, epochs = 1, batch_size=10)"
   ]
  },
  {
   "cell_type": "markdown",
   "metadata": {},
   "source": [
    "** Evaluate the Model **"
   ]
  },
  {
   "cell_type": "code",
   "execution_count": 11,
   "metadata": {},
   "outputs": [
    {
     "name": "stdout",
     "output_type": "stream",
     "text": [
      "Loss: 0.024885, Accuracy: 99.000002\n"
     ]
    }
   ],
   "source": [
    "# evaluate the model \n",
    "X, y = get_sequences(100, n_timesteps)\n",
    "loss, acc = model.evaluate(X, y, verbose=0)\n",
    "print('Loss: %f, Accuracy: %f' % (loss, acc*100))"
   ]
  },
  {
   "cell_type": "markdown",
   "metadata": {},
   "source": [
    "** Make Predictions with the Model **"
   ]
  },
  {
   "cell_type": "code",
   "execution_count": 12,
   "metadata": {},
   "outputs": [
    {
     "name": "stdout",
     "output_type": "stream",
     "text": [
      "y=[0 0 0 0 1 1 1 1 1 1], yhat=[0 0 0 0 1 1 1 1 1 1], correct=True\n",
      "y=[0 0 0 0 0 0 1 1 1 1], yhat=[0 0 0 0 0 0 1 1 1 1], correct=True\n",
      "y=[0 0 0 0 0 0 0 0 1 1], yhat=[0 0 0 0 0 0 0 0 1 1], correct=True\n",
      "y=[0 0 0 1 1 1 1 1 1 1], yhat=[0 0 0 1 1 1 1 1 1 1], correct=True\n",
      "y=[0 0 0 0 0 0 1 1 1 1], yhat=[0 0 0 0 0 0 1 1 1 1], correct=True\n",
      "y=[0 0 0 0 0 0 0 1 1 1], yhat=[0 0 0 0 0 0 0 1 1 1], correct=True\n",
      "y=[0 0 0 0 0 1 1 1 1 1], yhat=[0 0 0 0 0 1 1 1 1 1], correct=True\n",
      "y=[0 0 0 1 1 1 1 1 1 1], yhat=[0 0 0 0 1 1 1 1 1 1], correct=False\n",
      "y=[0 0 0 0 1 1 1 1 1 1], yhat=[0 0 0 0 1 1 1 1 1 1], correct=True\n",
      "y=[0 0 0 0 0 0 1 1 1 1], yhat=[0 0 0 0 0 0 1 1 1 1], correct=True\n"
     ]
    }
   ],
   "source": [
    "# make predictions\n",
    "for _ in range(10):\n",
    "    X, y = get_sequences(1, n_timesteps)\n",
    "    yhat = model.predict_classes(X, verbose=0)\n",
    "    exp, pred = y.reshape(n_timesteps), yhat.reshape(n_timesteps)\n",
    "    print('y=%s, yhat=%s, correct=%s' % (exp, pred, np.array_equal(exp, pred)))"
   ]
  },
  {
   "cell_type": "code",
   "execution_count": null,
   "metadata": {},
   "outputs": [],
   "source": []
  }
 ],
 "metadata": {
  "kernelspec": {
   "display_name": "Python 3",
   "language": "python",
   "name": "python3"
  },
  "language_info": {
   "codemirror_mode": {
    "name": "ipython",
    "version": 3
   },
   "file_extension": ".py",
   "mimetype": "text/x-python",
   "name": "python",
   "nbconvert_exporter": "python",
   "pygments_lexer": "ipython3",
   "version": "3.6.4"
  }
 },
 "nbformat": 4,
 "nbformat_minor": 2
}
