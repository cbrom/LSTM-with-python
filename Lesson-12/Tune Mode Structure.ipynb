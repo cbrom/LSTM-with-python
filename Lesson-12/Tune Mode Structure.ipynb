{
 "cells": [
  {
   "cell_type": "code",
   "execution_count": 1,
   "metadata": {},
   "outputs": [
    {
     "name": "stderr",
     "output_type": "stream",
     "text": [
      "/home/cbrom/anaconda3/lib/python3.6/site-packages/h5py/__init__.py:36: FutureWarning: Conversion of the second argument of issubdtype from `float` to `np.floating` is deprecated. In future, it will be treated as `np.float64 == np.dtype(float).type`.\n",
      "  from ._conv import register_converters as _register_converters\n",
      "Using TensorFlow backend.\n"
     ]
    }
   ],
   "source": [
    "from keras.models import Sequential\n",
    "from keras.layers import Dense, LSTM\n",
    "import matplotlib.pyplot as plt\n",
    "import pandas as pd\n",
    "import numpy as np"
   ]
  },
  {
   "cell_type": "code",
   "execution_count": 2,
   "metadata": {},
   "outputs": [],
   "source": [
    "# return training data\n",
    "def get_train():\n",
    "    seq = [[0.0, 0.1], [0.1, 0.2], [0.2, 0.3], [0.3, 0.4], [0.4, 0.5]]\n",
    "    seq = np.array(seq)\n",
    "    X, y = seq[:, 0], seq[:, 1]\n",
    "    X = X.reshape((5, 1, 1))\n",
    "    return X, y\n",
    "\n",
    "# return validation data\n",
    "def get_val():\n",
    "    seq = [[0.5, 0.6], [0.6, 0.7], [0.7, 0.8], [0.8, 0.9], [0.9, 1.0]]\n",
    "    seq = np.array(seq)\n",
    "    X, y = seq[:, 0], seq[:, 1]\n",
    "    X = X.reshape((5, 1, 1))\n",
    "    return X, y"
   ]
  },
  {
   "cell_type": "code",
   "execution_count": 3,
   "metadata": {},
   "outputs": [],
   "source": [
    "# fit an LSTM model\n",
    "def fit_model(n_cells):\n",
    "    # define model\n",
    "    model = Sequential()\n",
    "    model.add(LSTM(n_cells, input_shape=(1, 1)))\n",
    "    model.add(Dense(1, activation='linear'))\n",
    "    # compile model\n",
    "    model.compile(loss='mse', optimizer='adam')\n",
    "    # fit model\n",
    "    X, y = get_train()\n",
    "    history = model.fit(X, y, epochs = 500, shuffle=False, verbose=0)\n",
    "    # evaluate model\n",
    "    valX, valY = get_val()\n",
    "    loss = model.evaluate(valX, valY, verbose=0)\n",
    "    return loss"
   ]
  },
  {
   "cell_type": "markdown",
   "metadata": {},
   "source": [
    "** Search parameters **"
   ]
  },
  {
   "cell_type": "code",
   "execution_count": 4,
   "metadata": {},
   "outputs": [
    {
     "name": "stdout",
     "output_type": "stream",
     "text": [
      ">15 param=1.000000, loss=0.229970\n",
      ">25 param=1.000000, loss=0.103518\n",
      ">35 param=1.000000, loss=0.291327\n",
      ">45 param=1.000000, loss=0.346577\n",
      ">55 param=1.000000, loss=0.127797\n",
      ">15 param=5.000000, loss=0.097759\n",
      ">25 param=5.000000, loss=0.056957\n",
      ">35 param=5.000000, loss=0.212590\n",
      ">45 param=5.000000, loss=0.048922\n",
      ">55 param=5.000000, loss=0.134759\n",
      ">15 param=10.000000, loss=0.014563\n",
      ">25 param=10.000000, loss=0.019800\n",
      ">35 param=10.000000, loss=0.040385\n",
      ">45 param=10.000000, loss=0.048574\n",
      ">55 param=10.000000, loss=0.023046\n",
      "              1         5        10\n",
      "count  5.000000  5.000000  5.000000\n",
      "mean   0.219838  0.110198  0.029274\n",
      "std    0.104017  0.066767  0.014499\n",
      "min    0.103518  0.048922  0.014563\n",
      "25%    0.127797  0.056957  0.019800\n",
      "50%    0.229970  0.097759  0.023046\n",
      "75%    0.291327  0.134759  0.040385\n",
      "max    0.346577  0.212590  0.048574\n"
     ]
    },
    {
     "data": {
      "image/png": "[encoded data removed]",
      "text/plain": [
       "<matplotlib.figure.Figure at 0x7fb7b17f5080>"
      ]
     },
     "metadata": {},
     "output_type": "display_data"
    }
   ],
   "source": [
    "# define scope of search\n",
    "params = [1, 5, 10]\n",
    "n_repeats = 5\n",
    "# grid search parameter values\n",
    "scores = pd.DataFrame()\n",
    "for value in params:\n",
    "    # repeat each experiment multiple times\n",
    "    loss_values = []\n",
    "    for i in range(n_repeats):\n",
    "        loss = fit_model(value)\n",
    "        loss_values.append(loss)\n",
    "        print('>%d%d param=%f, loss=%f' %(i+1, n_repeats, value, loss))\n",
    "    # store results for this parameter\n",
    "    scores[str(value)] = loss_values\n",
    "# summary statistics of results\n",
    "print(scores.describe())\n",
    "# box and whisker plot of results\n",
    "scores.boxplot()\n",
    "plt.show()"
   ]
  },
  {
   "cell_type": "code",
   "execution_count": null,
   "metadata": {},
   "outputs": [],
   "source": []
  }
 ],
 "metadata": {
  "kernelspec": {
   "display_name": "Python 3",
   "language": "python",
   "name": "python3"
  },
  "language_info": {
   "codemirror_mode": {
    "name": "ipython",
    "version": 3
   },
   "file_extension": ".py",
   "mimetype": "text/x-python",
   "name": "python",
   "nbconvert_exporter": "python",
   "pygments_lexer": "ipython3",
   "version": "3.6.4"
  }
 },
 "nbformat": 4,
 "nbformat_minor": 2
}
